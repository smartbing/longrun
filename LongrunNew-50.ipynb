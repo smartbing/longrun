{
 "cells": [
  {
   "cell_type": "code",
   "execution_count": 15,
   "metadata": {
    "collapsed": true
   },
   "outputs": [],
   "source": [
    "import os\n",
    "import datetime\n",
    "#import json\n",
    "import numpy as np\n",
    "import pandas as pd\n",
    "#import matplotlib.pyplot as plt\n",
    "#import matplotlib\n",
    "#from pandas_datareader import data, wb  # Testing of datareader package\n",
    "#matplotlib.style.use('ggplot')\n",
    "\n",
    "# Initial Data Setup\n",
    "start_date = '2012-05-01'\n",
    "start_date = datetime.datetime.strptime(start_date, '%Y-%m-%d')"
   ]
  },
  {
   "cell_type": "code",
   "execution_count": 16,
   "metadata": {
    "collapsed": false
   },
   "outputs": [],
   "source": [
    "data_path = 'C:/Users/Bing/github/longrun/data'\n",
    "vxv_file = os.path.join(data_path, 'vxv_new.csv')\n",
    "vxmt_file = os.path.join(data_path, 'vxmt_new.csv')\n",
    "xiv_file = os.path.join(data_path, 'xiv.csv')\n",
    "vxx_file = os.path.join(data_path, 'vxx.csv')\n",
    "svxy_file = os.path.join(data_path, 'svxy_new.csv')\n",
    "hvi_file = os.path.join(data_path, 'svxy.csv')\n",
    "spx_file = os.path.join(data_path, 'spx.csv')\n",
    "dateparse = lambda x: pd.datetime.strptime(x, '%d/%m/%Y')\n",
    "dateparse_dash = lambda x: pd.datetime.strptime(x, '%Y-%m-%d')\n",
    "vxv_df = pd.read_csv(vxv_file, index_col=0, parse_dates=[0], date_parser=dateparse)\n",
    "vxmt_df = pd.read_csv(vxmt_file, index_col=0, parse_dates=[0], date_parser=dateparse)\n",
    "vxx_df = pd.read_csv(vxx_file, index_col=0, parse_dates=[0], date_parser=dateparse)\n",
    "xiv_df = pd.read_csv(xiv_file, index_col=0, parse_dates=[0], date_parser=dateparse)\n",
    "svxy_df = pd.read_csv(svxy_file, index_col=0, parse_dates=[0], date_parser=dateparse_dash)\n",
    "hvi_df = pd.read_csv(hvi_file, index_col=0, parse_dates=[0], date_parser=dateparse)\n",
    "spx_df = pd.read_csv(spx_file, index_col=0, parse_dates=[0], date_parser=dateparse_dash)\n",
    "xiv = xiv_df[['Adj Close']]\n",
    "vxx = vxx_df[['Adj Close']]\n",
    "svxy = svxy_df[['Adj Close']]\n",
    "hvi = hvi_df[['Adj Close']]\n",
    "spx = spx_df[['Adj Close']]\n",
    "spx.columns = ['spx']\n"
   ]
  },
  {
   "cell_type": "code",
   "execution_count": 17,
   "metadata": {
    "collapsed": true
   },
   "outputs": [],
   "source": [
    "# calc ratios and signals\n",
    "data = pd.merge(vxv_df, vxmt_df, how='left', left_index=True, right_index=True)\n",
    "data = data.dropna(axis=0, how='any')\n",
    "\n",
    "\n",
    "# Derived vix futures ratio and moving averages below\n",
    "ratio = data['VXV'].divide(data['VXMT'])\n",
    "ratio.sort_index(axis='index', inplace=True)\n",
    "ratio.name = 'ratio'\n",
    "ma_60 = pd.Series.rolling(ratio, window=60).mean()\n",
    "ma_150 = pd.Series.rolling(ratio, window=150).mean()\n",
    "ma_60.name = 'ma_60'\n",
    "ma_150.name = 'ma_150'\n",
    "\n",
    "strat_df = pd.concat([ratio, ma_60, ma_150],  axis=1)\n",
    "idx = strat_df.isnull().any(axis=1)\n",
    "strat_df = strat_df[~idx]\n",
    "strat_df = strat_df[strat_df.index >= start_date]\n",
    "\n",
    "etf = pd.merge(svxy, xiv, how='left', left_index=True, right_index=True)\n",
    "etf = pd.merge(etf, vxx, how='left', left_index=True, right_index=True)\n",
    "etf = pd.merge(etf, hvi, how='left', left_index=True, right_index=True)\n",
    "etf.columns = ['svxy', 'xiv', 'vxx', 'hvi']\n"
   ]
  },
  {
   "cell_type": "code",
   "execution_count": null,
   "metadata": {
    "collapsed": false
   },
   "outputs": [],
   "source": []
  },
  {
   "cell_type": "code",
   "execution_count": 18,
   "metadata": {
    "collapsed": false
   },
   "outputs": [
    {
     "name": "stderr",
     "output_type": "stream",
     "text": [
      "C:\\Program Files\\Anaconda2\\envs\\python3\\lib\\site-packages\\ipykernel\\__main__.py:24: SettingWithCopyWarning: \n",
      "A value is trying to be set on a copy of a slice from a DataFrame\n",
      "\n",
      "See the caveats in the documentation: http://pandas.pydata.org/pandas-docs/stable/indexing.html#indexing-view-versus-copy\n",
      "C:\\Program Files\\Anaconda2\\envs\\python3\\lib\\site-packages\\ipykernel\\__main__.py:25: SettingWithCopyWarning: \n",
      "A value is trying to be set on a copy of a slice from a DataFrame\n",
      "\n",
      "See the caveats in the documentation: http://pandas.pydata.org/pandas-docs/stable/indexing.html#indexing-view-versus-copy\n",
      "C:\\Program Files\\Anaconda2\\envs\\python3\\lib\\site-packages\\ipykernel\\__main__.py:36: SettingWithCopyWarning: \n",
      "A value is trying to be set on a copy of a slice from a DataFrame\n",
      "\n",
      "See the caveats in the documentation: http://pandas.pydata.org/pandas-docs/stable/indexing.html#indexing-view-versus-copy\n",
      "C:\\Program Files\\Anaconda2\\envs\\python3\\lib\\site-packages\\ipykernel\\__main__.py:37: SettingWithCopyWarning: \n",
      "A value is trying to be set on a copy of a slice from a DataFrame\n",
      "\n",
      "See the caveats in the documentation: http://pandas.pydata.org/pandas-docs/stable/indexing.html#indexing-view-versus-copy\n"
     ]
    }
   ],
   "source": [
    "# First strat df with all etf data and ratio\n",
    "#longrun = pd.merge(etf, strat_df , how='left', left_index=True, right_index=True)\n",
    "\n",
    "# Strategy signals can be calculated independent of underlying data first, merge signals with price data later\n",
    "# 100% Long signal\n",
    "strat_df['signal'] = np.where((strat_df['ma_60']<1) & (strat_df['ma_150']<1) & (strat_df['ratio'] < strat_df['ma_60']) & (strat_df['ratio'] < strat_df['ma_150']), 1, 0)\n",
    "\n",
    "# 50% long signal\n",
    "strat_df['signal_50'] = np.where((strat_df['ma_60']<1) & (strat_df['ma_150']<1) & (strat_df['ratio'] > strat_df['ma_150']) & (strat_df['ratio'] < strat_df['ma_60']), 1, 0)\n",
    "\n",
    "# Get enter/out signal\n",
    "idx = np.where(strat_df.signal[1:].values != strat_df.signal[:-1].values)[0] + 1\n",
    "idx_50 = np.where(strat_df.signal_50[1:].values != strat_df.signal_50[:-1].values)[0] + 1\n",
    "\n",
    "# Get buy/sell cells for 100% Long\n",
    "if strat_df.signal[0] == 0:\n",
    "    buy_idx = idx[::2]\n",
    "    sell_idx = idx[1::2]\n",
    "else:\n",
    "    buy_idx = np.insert(idx[1::2], 0, 0)\n",
    "    sell_idx = idx[::2]\n",
    "\n",
    "strat_df['bs'] = ''\n",
    "strat_df.bs[buy_idx] = 'buy'\n",
    "strat_df.bs[sell_idx] = 'sell'\n",
    "\n",
    "# Get buy/sell cells for 50% Long\n",
    "if strat_df.signal_50[0] == 0:\n",
    "    buy_50_idx = idx_50[::2]\n",
    "    sell_50_idx = idx_50[1::2]\n",
    "else:\n",
    "    buy_50_idx = np.insert(idx_50[1::2], 0, 0)\n",
    "    sell_50_idx = idx_50[::2]\n",
    "\n",
    "strat_df['bs_50'] = ''\n",
    "strat_df.bs_50[buy_50_idx] = 'buy'\n",
    "strat_df.bs_50[sell_50_idx] = 'sell'\n",
    "\n",
    "# Output strat_df to csv\n",
    "strat_df.to_csv(os.path.join(data_path, 'strat_signal.csv'))\n",
    "\n"
   ]
  },
  {
   "cell_type": "code",
   "execution_count": 19,
   "metadata": {
    "collapsed": false
   },
   "outputs": [],
   "source": [
    "# Start to build the longrun strat portfolio with underlying stock/etf\n",
    "# First merge stock with strat_df\n",
    "all_data = pd.merge(etf, strat_df , how='left', left_index=True, right_index=True)\n",
    "end_date = strat_df.index.max()\n",
    "longrun = all_data[(all_data.index >= start_date) & (all_data.index <=end_date)]\n",
    "# etf_name = 'xiv'\n",
    "etf_name = 'svxy'\n"
   ]
  },
  {
   "cell_type": "code",
   "execution_count": null,
   "metadata": {
    "collapsed": false
   },
   "outputs": [],
   "source": []
  },
  {
   "cell_type": "code",
   "execution_count": 20,
   "metadata": {
    "collapsed": true
   },
   "outputs": [],
   "source": [
    "# Predefined portfolio variables\n",
    "capital = 0\n",
    "n_shares = 0\n",
    "cash = 100\n",
    "capital_prev = capital\n",
    "n_prev = n_shares\n",
    "cash_prev = cash\n",
    "port_value = capital + cash\n",
    "port = []"
   ]
  },
  {
   "cell_type": "code",
   "execution_count": 21,
   "metadata": {
    "collapsed": true
   },
   "outputs": [],
   "source": [
    "# Record rebalance variables info\n",
    "n_stock = []\n",
    "cap_list = []\n",
    "cash_list = []"
   ]
  },
  {
   "cell_type": "code",
   "execution_count": 22,
   "metadata": {
    "collapsed": false
   },
   "outputs": [
    {
     "name": "stderr",
     "output_type": "stream",
     "text": [
      "C:\\Program Files\\Anaconda2\\envs\\python3\\lib\\site-packages\\ipykernel\\__main__.py:2: SettingWithCopyWarning: \n",
      "A value is trying to be set on a copy of a slice from a DataFrame.\n",
      "Try using .loc[row_indexer,col_indexer] = value instead\n",
      "\n",
      "See the caveats in the documentation: http://pandas.pydata.org/pandas-docs/stable/indexing.html#indexing-view-versus-copy\n",
      "  from ipykernel import kernelapp as app\n",
      "C:\\Program Files\\Anaconda2\\envs\\python3\\lib\\site-packages\\pandas\\core\\generic.py:3549: SettingWithCopyWarning: \n",
      "A value is trying to be set on a copy of a slice from a DataFrame\n",
      "\n",
      "See the caveats in the documentation: http://pandas.pydata.org/pandas-docs/stable/indexing.html#indexing-view-versus-copy\n",
      "  self._update_inplace(new_data)\n"
     ]
    }
   ],
   "source": [
    "# Now shift the underlying price (XIV) backward 1 day to avoid look ahead bias\n",
    "longrun[etf_name] = longrun[etf_name].shift(-1)\n",
    "longrun[etf_name].fillna(method='ffill', inplace=True)"
   ]
  },
  {
   "cell_type": "code",
   "execution_count": 23,
   "metadata": {
    "collapsed": true
   },
   "outputs": [],
   "source": [
    "# Below are the trade/rebalance logics for the portfolio strating from trade day\n",
    "for i in np.arange(0, len(longrun.index)):\n",
    "    price = longrun[etf_name].iloc[i]\n",
    "    signal = longrun.signal[i]\n",
    "    signal_50 = longrun.signal_50[i]\n",
    "    bs = longrun.bs[i]\n",
    "    bs_50 = longrun.bs_50[i]\n",
    "    # update today's share and capital from yesterday\n",
    "    n = n_prev\n",
    "    capital = capital_prev\n",
    "    cash = cash_prev\n",
    "\n",
    "    # enter 50% vix from all cash\n",
    "    if signal_50 == 1 and bs_50 == 'buy' and bs == '':\n",
    "        n = cash * 0.5 / price\n",
    "        capital = n * price\n",
    "        cash = cash * 0.5\n",
    "\n",
    "    # Enter 50% into 100% (invest rest of cash into xiv)\n",
    "    if signal == 1 and bs == 'buy' and signal_50 == 0 and bs_50 == 'sell':\n",
    "        n = n + cash / price\n",
    "        capital = n * price\n",
    "        cash = 0\n",
    "\n",
    "    # Enter 100% into xiv from all cash\n",
    "    if signal == 1 and bs == 'buy' and bs_50 == '':\n",
    "        n = cash / price\n",
    "        capital = n * price\n",
    "        cash = 0\n",
    "\n",
    "    # Unload 50% xiv from 100%\n",
    "    if signal == 0 and bs == 'sell' and bs_50 == 'buy':\n",
    "        n = n * 0.5\n",
    "        capital = n * price\n",
    "        cash = capital\n",
    "\n",
    "    # Sell all from 50% position or 100%\n",
    "    if signal_50 == 0 and bs_50 == 'sell' and bs == '':\n",
    "        cash = capital + cash\n",
    "        n = 0\n",
    "        capital = 0\n",
    "\n",
    "    # Sell all from 100%\n",
    "    if signal == 0 and bs == 'sell' and bs_50 == '':\n",
    "        cash = capital\n",
    "        n = 0\n",
    "        capital = 0\n",
    "\n",
    "    # Hold long position\n",
    "    if (signal == 1 and bs == '') or (signal_50 == 1 and bs_50 == ''):\n",
    "        capital = n * price\n",
    "\n",
    "    n_prev = n\n",
    "    capital_prev = capital\n",
    "    cash_prev = cash\n",
    "    port_value = cash + capital\n",
    "    port.append(port_value)\n",
    "    n_stock.append(n)\n",
    "    cap_list.append(capital)\n",
    "    cash_list.append(cash)"
   ]
  },
  {
   "cell_type": "code",
   "execution_count": 24,
   "metadata": {
    "collapsed": false
   },
   "outputs": [
    {
     "name": "stderr",
     "output_type": "stream",
     "text": [
      "C:\\Program Files\\Anaconda2\\envs\\python3\\lib\\site-packages\\ipykernel\\__main__.py:2: SettingWithCopyWarning: \n",
      "A value is trying to be set on a copy of a slice from a DataFrame.\n",
      "Try using .loc[row_indexer,col_indexer] = value instead\n",
      "\n",
      "See the caveats in the documentation: http://pandas.pydata.org/pandas-docs/stable/indexing.html#indexing-view-versus-copy\n",
      "  from ipykernel import kernelapp as app\n",
      "C:\\Program Files\\Anaconda2\\envs\\python3\\lib\\site-packages\\ipykernel\\__main__.py:3: SettingWithCopyWarning: \n",
      "A value is trying to be set on a copy of a slice from a DataFrame.\n",
      "Try using .loc[row_indexer,col_indexer] = value instead\n",
      "\n",
      "See the caveats in the documentation: http://pandas.pydata.org/pandas-docs/stable/indexing.html#indexing-view-versus-copy\n",
      "  app.launch_new_instance()\n",
      "C:\\Program Files\\Anaconda2\\envs\\python3\\lib\\site-packages\\ipykernel\\__main__.py:4: SettingWithCopyWarning: \n",
      "A value is trying to be set on a copy of a slice from a DataFrame.\n",
      "Try using .loc[row_indexer,col_indexer] = value instead\n",
      "\n",
      "See the caveats in the documentation: http://pandas.pydata.org/pandas-docs/stable/indexing.html#indexing-view-versus-copy\n",
      "C:\\Program Files\\Anaconda2\\envs\\python3\\lib\\site-packages\\ipykernel\\__main__.py:5: SettingWithCopyWarning: \n",
      "A value is trying to be set on a copy of a slice from a DataFrame.\n",
      "Try using .loc[row_indexer,col_indexer] = value instead\n",
      "\n",
      "See the caveats in the documentation: http://pandas.pydata.org/pandas-docs/stable/indexing.html#indexing-view-versus-copy\n"
     ]
    }
   ],
   "source": [
    "port_df = longrun[[etf_name]]\n",
    "port_df['strat'] = port\n",
    "port_df['n'] = n_stock\n",
    "port_df['capital'] = cap_list\n",
    "port_df['cash'] = cash_list\n"
   ]
  },
  {
   "cell_type": "code",
   "execution_count": 25,
   "metadata": {
    "collapsed": false
   },
   "outputs": [],
   "source": [
    "import matplotlib.pyplot as plt\n",
    "import matplotlib\n",
    "from pandas_datareader import data, wb  # Testing of datareader package\n",
    "matplotlib.style.use('ggplot')"
   ]
  },
  {
   "cell_type": "code",
   "execution_count": 26,
   "metadata": {
    "collapsed": false
   },
   "outputs": [],
   "source": [
    "%matplotlib inline  "
   ]
  },
  {
   "cell_type": "code",
   "execution_count": 27,
   "metadata": {
    "collapsed": false
   },
   "outputs": [
    {
     "data": {
      "text/plain": [
       "{'IR': 0.61195779646018578,\n",
       " 'sharpe_ratio': 1.0794102724761645,\n",
       " 'total_return': 4.97111386873895,\n",
       " 'yearly_return': 0.21280237327142748,\n",
       " 'yearly_std': 0.29811217433871146}"
      ]
     },
     "execution_count": 27,
     "metadata": {},
     "output_type": "execute_result"
    }
   ],
   "source": [
    "# Performance Calculation\n",
    "perf_df = pd.merge(port_df, spx , how='left', left_index=True, right_index=True)\n",
    "perf_df['strat_ret'] = perf_df['strat'].pct_change(1)\n",
    "perf_df['spx_ret'] = perf_df['spx'].pct_change(1)\n",
    "perf_df['ex_ret'] = perf_df['strat_ret'] - perf_df['spx_ret']\n",
    "perf_df = perf_df.fillna(0)\n",
    "perf_df.to_csv(os.path.join(data_path, start_date.strftime('%Y-%m-%d') + '_performance.csv'))\n",
    "\n",
    "total_return = perf_df['strat'][-1]/perf_df['strat'][1] - 1\n",
    "daily_std = np.nanstd(perf_df['strat_ret'])\n",
    "annual_std = daily_std * np.sqrt(252)\n",
    "sharpe_ratio = np.sqrt(252) * np.average(perf_df['strat_ret']) / daily_std\n",
    "ir = perf_df['ex_ret'].mean() / perf_df['ex_ret'].std() * np.sqrt(252)\n",
    "ndays = (perf_df.index[-1] - perf_df.index[0]).days\n",
    "nyears = ndays/252\n",
    "year_return = np.power(1 + total_return, 1/nyears) - 1\n",
    "perf_dict = {'total_return': total_return, 'yearly_return': year_return, 'yearly_std': annual_std, 'sharpe_ratio': sharpe_ratio, 'IR': ir}\n",
    "perf_dict\n"
   ]
  },
  {
   "cell_type": "code",
   "execution_count": 28,
   "metadata": {
    "collapsed": false
   },
   "outputs": [
    {
     "data": {
      "text/plain": [
       "<matplotlib.axes._subplots.AxesSubplot at 0x972d047ef0>"
      ]
     },
     "execution_count": 28,
     "metadata": {},
     "output_type": "execute_result"
    },
    {
     "data": {
      "image/png": "[encoded data removed]",
      "text/plain": [
       "<matplotlib.figure.Figure at 0x972e012668>"
      ]
     },
     "metadata": {},
     "output_type": "display_data"
    }
   ],
   "source": [
    "perf_df['strat'].plot()"
   ]
  }
 ],
 "metadata": {
  "anaconda-cloud": {},
  "kernelspec": {
   "display_name": "Python [conda env:python3]",
   "language": "python",
   "name": "conda-env-python3-py"
  },
  "language_info": {
   "codemirror_mode": {
    "name": "ipython",
    "version": 3
   },
   "file_extension": ".py",
   "mimetype": "text/x-python",
   "name": "python",
   "nbconvert_exporter": "python",
   "pygments_lexer": "ipython3",
   "version": "3.6.1"
  }
 },
 "nbformat": 4,
 "nbformat_minor": 2
}
