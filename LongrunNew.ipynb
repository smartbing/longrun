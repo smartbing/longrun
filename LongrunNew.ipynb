{
 "cells": [
  {
   "cell_type": "code",
   "execution_count": 39,
   "metadata": {
    "collapsed": true
   },
   "outputs": [],
   "source": [
    "import os\n",
    "import datetime\n",
    "#import json\n",
    "import numpy as np\n",
    "import pandas as pd\n",
    "#import matplotlib.pyplot as plt\n",
    "#import matplotlib\n",
    "#from pandas_datareader import data, wb  # Testing of datareader package\n",
    "#matplotlib.style.use('ggplot')\n",
    "\n",
    "# Initial Data Setup\n",
    "start_date = '2015-05-01'\n",
    "start_date = datetime.datetime.strptime(start_date, '%Y-%m-%d')"
   ]
  },
  {
   "cell_type": "code",
   "execution_count": 40,
   "metadata": {
    "collapsed": true
   },
   "outputs": [],
   "source": [
    "data_path = 'C:/Users/Bing/github/longrun/data'\n",
    "vxv_file = os.path.join(data_path, 'vxv.csv')\n",
    "vxmt_file = os.path.join(data_path, 'vxmt.csv')\n",
    "xiv_file = os.path.join(data_path, 'xiv.csv')\n",
    "vxx_file = os.path.join(data_path, 'vxx.csv')\n",
    "svxy_file = os.path.join(data_path, 'svxy.csv')\n",
    "hvi_file = os.path.join(data_path, 'svxy.csv')\n",
    "dateparse = lambda x: pd.datetime.strptime(x, '%d/%m/%Y')\n",
    "\n",
    "vxv_df = pd.read_csv(vxv_file, index_col=0, parse_dates=[0], date_parser=dateparse)\n",
    "vxmt_df = pd.read_csv(vxmt_file, index_col=0, parse_dates=[0], date_parser=dateparse)\n",
    "vxx_df = pd.read_csv(vxx_file, index_col=0, parse_dates=[0], date_parser=dateparse)\n",
    "xiv_df = pd.read_csv(xiv_file, index_col=0, parse_dates=[0], date_parser=dateparse)\n",
    "svxy_df = pd.read_csv(svxy_file, index_col=0, parse_dates=[0], date_parser=dateparse)\n",
    "hvi_df = pd.read_csv(hvi_file, index_col=0, parse_dates=[0], date_parser=dateparse)\n",
    "xiv = xiv_df[['Adj Close']]\n",
    "vxx = vxx_df[['Adj Close']]\n",
    "svxy = svxy_df[['Adj Close']]\n",
    "hvi = hvi_df[['Adj Close']]\n",
    "\n"
   ]
  },
  {
   "cell_type": "code",
   "execution_count": 41,
   "metadata": {
    "collapsed": true
   },
   "outputs": [],
   "source": [
    "# calc ratios and signals\n",
    "data = pd.merge(vxv_df, vxmt_df, how='left', left_index=True, right_index=True)\n",
    "data = data.fillna(method='ffill')\n",
    "data = data.fillna(value=0)\n",
    "# Derived vix futures ratio and moving averages below\n",
    "ratio = data['VXV'].divide(data['VXMT'])\n",
    "ratio.sort_index(axis='index', inplace=True)\n",
    "ratio.name = 'ratio'\n",
    "ma_60 = pd.Series.rolling(ratio, window=60).mean()\n",
    "ma_150 = pd.Series.rolling(ratio, window=150).mean()\n",
    "ma_60.name = 'ma_60'\n",
    "ma_150.name = 'ma_150'\n",
    "\n",
    "strat_df = pd.concat([ratio, ma_60, ma_150],  axis=1)\n",
    "idx = strat_df.isnull().any(axis=1)\n",
    "strat_df = strat_df[~idx]\n",
    "strat_df = strat_df[strat_df.index >= start_date]\n",
    "\n",
    "\n",
    "etf = pd.merge(xiv, vxx, how='left', left_index=True, right_index=True)\n",
    "etf = pd.merge(etf, svxy, how='left', left_index=True, right_index=True)\n",
    "etf = pd.merge(etf, hvi, how='left', left_index=True, right_index=True)\n",
    "etf.columns = ['xiv', 'vxx', 'svxy', 'hvi']\n"
   ]
  },
  {
   "cell_type": "code",
   "execution_count": 42,
   "metadata": {
    "collapsed": false
   },
   "outputs": [
    {
     "data": {
      "text/html": [
       "<div>\n",
       "<style>\n",
       "    .dataframe thead tr:only-child th {\n",
       "        text-align: right;\n",
       "    }\n",
       "\n",
       "    .dataframe thead th {\n",
       "        text-align: left;\n",
       "    }\n",
       "\n",
       "    .dataframe tbody tr th {\n",
       "        vertical-align: top;\n",
       "    }\n",
       "</style>\n",
       "<table border=\"1\" class=\"dataframe\">\n",
       "  <thead>\n",
       "    <tr style=\"text-align: right;\">\n",
       "      <th></th>\n",
       "      <th>Adj Close</th>\n",
       "    </tr>\n",
       "    <tr>\n",
       "      <th>Date</th>\n",
       "      <th></th>\n",
       "    </tr>\n",
       "  </thead>\n",
       "  <tbody>\n",
       "    <tr>\n",
       "      <th>2016-12-01</th>\n",
       "      <td>41.900002</td>\n",
       "    </tr>\n",
       "    <tr>\n",
       "      <th>2016-12-02</th>\n",
       "      <td>41.849998</td>\n",
       "    </tr>\n",
       "    <tr>\n",
       "      <th>2016-12-05</th>\n",
       "      <td>44.730000</td>\n",
       "    </tr>\n",
       "    <tr>\n",
       "      <th>2016-12-06</th>\n",
       "      <td>46.060001</td>\n",
       "    </tr>\n",
       "    <tr>\n",
       "      <th>2016-12-07</th>\n",
       "      <td>45.950001</td>\n",
       "    </tr>\n",
       "  </tbody>\n",
       "</table>\n",
       "</div>"
      ],
      "text/plain": [
       "            Adj Close\n",
       "Date                 \n",
       "2016-12-01  41.900002\n",
       "2016-12-02  41.849998\n",
       "2016-12-05  44.730000\n",
       "2016-12-06  46.060001\n",
       "2016-12-07  45.950001"
      ]
     },
     "execution_count": 42,
     "metadata": {},
     "output_type": "execute_result"
    }
   ],
   "source": [
    "xiv.head()"
   ]
  },
  {
   "cell_type": "code",
   "execution_count": 43,
   "metadata": {
    "collapsed": false
   },
   "outputs": [
    {
     "name": "stderr",
     "output_type": "stream",
     "text": [
      "C:\\Program Files\\Anaconda2\\envs\\python3\\lib\\site-packages\\ipykernel\\__main__.py:24: SettingWithCopyWarning: \n",
      "A value is trying to be set on a copy of a slice from a DataFrame\n",
      "\n",
      "See the caveats in the documentation: http://pandas.pydata.org/pandas-docs/stable/indexing.html#indexing-view-versus-copy\n",
      "C:\\Program Files\\Anaconda2\\envs\\python3\\lib\\site-packages\\ipykernel\\__main__.py:25: SettingWithCopyWarning: \n",
      "A value is trying to be set on a copy of a slice from a DataFrame\n",
      "\n",
      "See the caveats in the documentation: http://pandas.pydata.org/pandas-docs/stable/indexing.html#indexing-view-versus-copy\n",
      "C:\\Program Files\\Anaconda2\\envs\\python3\\lib\\site-packages\\ipykernel\\__main__.py:36: SettingWithCopyWarning: \n",
      "A value is trying to be set on a copy of a slice from a DataFrame\n",
      "\n",
      "See the caveats in the documentation: http://pandas.pydata.org/pandas-docs/stable/indexing.html#indexing-view-versus-copy\n",
      "C:\\Program Files\\Anaconda2\\envs\\python3\\lib\\site-packages\\ipykernel\\__main__.py:37: SettingWithCopyWarning: \n",
      "A value is trying to be set on a copy of a slice from a DataFrame\n",
      "\n",
      "See the caveats in the documentation: http://pandas.pydata.org/pandas-docs/stable/indexing.html#indexing-view-versus-copy\n"
     ]
    }
   ],
   "source": [
    "# First strat df with all etf data and ratio\n",
    "#longrun = pd.merge(etf, strat_df , how='left', left_index=True, right_index=True)\n",
    "\n",
    "# Strategy signals can be calculated independent of underlying data first, merge signals with price data later\n",
    "# 100% Long signal\n",
    "strat_df['signal'] = np.where((strat_df['ma_60']<1) & (strat_df['ma_150']<1) & (strat_df['ratio'] < strat_df['ma_60']) & (strat_df['ratio'] < strat_df['ma_150']), 1, 0)\n",
    "\n",
    "# 50% long signal\n",
    "strat_df['signal_50'] = np.where((strat_df['ma_60']<1) & (strat_df['ma_150']<1) & (strat_df['ratio'] > strat_df['ma_60']) & (strat_df['ratio'] < strat_df['ma_150']), 1, 0)\n",
    "\n",
    "# Get enter/out signal\n",
    "idx = np.where(strat_df.signal[1:].values != strat_df.signal[:-1].values)[0] + 1\n",
    "idx_50 = np.where(strat_df.signal_50[1:].values != strat_df.signal_50[:-1].values)[0] + 1\n",
    "\n",
    "# Get buy/sell cells for 100% Long\n",
    "if strat_df.signal[0] == 0:\n",
    "    buy_idx = idx[::2]\n",
    "    sell_idx = idx[1::2]\n",
    "else:\n",
    "    buy_idx = np.insert(idx[1::2], 0, 0)\n",
    "    sell_idx = idx[::2]\n",
    "\n",
    "strat_df['bs'] = ''\n",
    "strat_df.bs[buy_idx] = 'buy'\n",
    "strat_df.bs[sell_idx] = 'sell'\n",
    "\n",
    "# Get buy/sell cells for 50% Long\n",
    "if strat_df.signal_50[0] == 0:\n",
    "    buy_50_idx = idx_50[::2]\n",
    "    sell_50_idx = idx_50[1::2]\n",
    "else:\n",
    "    buy_50_idx = np.insert(idx_50[1::2], 0, 0)\n",
    "    sell_50_idx = idx_50[::2]\n",
    "\n",
    "strat_df['bs_50'] = ''\n",
    "strat_df.bs_50[buy_50_idx] = 'buy'\n",
    "strat_df.bs_50[sell_50_idx] = 'sell'\n",
    "\n",
    "# Output strat_df to csv\n",
    "strat_df.to_csv(os.path.join(data_path, 'strat_signal.csv'))\n",
    "\n"
   ]
  },
  {
   "cell_type": "code",
   "execution_count": 44,
   "metadata": {
    "collapsed": true
   },
   "outputs": [],
   "source": [
    "# Start to build the longrun strat portfolio with underlying stock/etf\n",
    "# First merge stock with strat_df\n",
    "all_data = pd.merge(etf, strat_df , how='left', left_index=True, right_index=True)\n",
    "longrun = all_data[all_data.index >= start_date]\n",
    "etf_name = 'xiv'\n",
    "#etf_name = 'svxy'\n"
   ]
  },
  {
   "cell_type": "code",
   "execution_count": null,
   "metadata": {
    "collapsed": true
   },
   "outputs": [],
   "source": []
  },
  {
   "cell_type": "code",
   "execution_count": null,
   "metadata": {
    "collapsed": true
   },
   "outputs": [],
   "source": []
  },
  {
   "cell_type": "code",
   "execution_count": 45,
   "metadata": {
    "collapsed": false
   },
   "outputs": [],
   "source": [
    "# Now shift the underlying price (XIV) backward 1 day to avoid look ahead bias\n",
    "longrun[etf_name] = longrun[etf_name].shift(-1)\n",
    "longrun[etf_name].fillna(method='ffill', inplace=True)"
   ]
  },
  {
   "cell_type": "code",
   "execution_count": 49,
   "metadata": {
    "collapsed": true
   },
   "outputs": [],
   "source": [
    "# Below are the trade/rebalance logics for the portfolio strating from trade day\n",
    "# Start to build the strategy portfolio\n",
    "capital = 100\n",
    "n_shares = 0\n",
    "capital_prev = capital\n",
    "n_prev = n_shares\n",
    "\n",
    "port = []\n",
    "n_stock = []\n",
    "cap_list = []\n",
    "cash_list = []\n",
    "# Below are the trade/rebalance logics for the portfolio strating from trade day\n",
    "for i in np.arange(0, len(longrun.index)):\n",
    "    price = longrun[etf_name].iloc[i]\n",
    "    signal = longrun.signal[i]\n",
    "    bs = longrun.bs[i]\n",
    "    # update today's share and capital from yesterday\n",
    "    n = n_prev\n",
    "    capital = capital_prev\n",
    "    # if today is buy\n",
    "    if signal == 1 and bs == 'buy':\n",
    "        n = capital/price\n",
    "    # if today is hold\n",
    "    elif signal == 1 and bs == '':\n",
    "        capital = n * price\n",
    "    # if today is sell/close\n",
    "    elif signal == 0 and bs == 'sell':\n",
    "        capital = n * price\n",
    "        n = 0\n",
    "\n",
    "    n_prev = n\n",
    "    capital_prev = capital\n",
    "    port.append(capital)\n",
    "    n_stock.append(n)"
   ]
  },
  {
   "cell_type": "code",
   "execution_count": 50,
   "metadata": {
    "collapsed": false
   },
   "outputs": [
    {
     "name": "stderr",
     "output_type": "stream",
     "text": [
      "C:\\Program Files\\Anaconda2\\envs\\python3\\lib\\site-packages\\ipykernel\\__main__.py:2: SettingWithCopyWarning: \n",
      "A value is trying to be set on a copy of a slice from a DataFrame.\n",
      "Try using .loc[row_indexer,col_indexer] = value instead\n",
      "\n",
      "See the caveats in the documentation: http://pandas.pydata.org/pandas-docs/stable/indexing.html#indexing-view-versus-copy\n",
      "  from ipykernel import kernelapp as app\n",
      "C:\\Program Files\\Anaconda2\\envs\\python3\\lib\\site-packages\\ipykernel\\__main__.py:3: SettingWithCopyWarning: \n",
      "A value is trying to be set on a copy of a slice from a DataFrame.\n",
      "Try using .loc[row_indexer,col_indexer] = value instead\n",
      "\n",
      "See the caveats in the documentation: http://pandas.pydata.org/pandas-docs/stable/indexing.html#indexing-view-versus-copy\n",
      "  app.launch_new_instance()\n"
     ]
    }
   ],
   "source": [
    "port_df = longrun[[etf_name]]\n",
    "port_df['strat'] = port\n",
    "port_df['n'] = n_stock\n"
   ]
  },
  {
   "cell_type": "code",
   "execution_count": 51,
   "metadata": {
    "collapsed": false
   },
   "outputs": [],
   "source": [
    "import matplotlib.pyplot as plt\n",
    "import matplotlib\n",
    "from pandas_datareader import data, wb  # Testing of datareader package\n",
    "matplotlib.style.use('ggplot')"
   ]
  },
  {
   "cell_type": "code",
   "execution_count": 52,
   "metadata": {
    "collapsed": false
   },
   "outputs": [],
   "source": [
    "%matplotlib inline  "
   ]
  },
  {
   "cell_type": "code",
   "execution_count": 53,
   "metadata": {
    "collapsed": false
   },
   "outputs": [
    {
     "data": {
      "text/html": [
       "<div>\n",
       "<style>\n",
       "    .dataframe thead tr:only-child th {\n",
       "        text-align: right;\n",
       "    }\n",
       "\n",
       "    .dataframe thead th {\n",
       "        text-align: left;\n",
       "    }\n",
       "\n",
       "    .dataframe tbody tr th {\n",
       "        vertical-align: top;\n",
       "    }\n",
       "</style>\n",
       "<table border=\"1\" class=\"dataframe\">\n",
       "  <thead>\n",
       "    <tr style=\"text-align: right;\">\n",
       "      <th></th>\n",
       "      <th>xiv</th>\n",
       "      <th>strat</th>\n",
       "      <th>n</th>\n",
       "    </tr>\n",
       "    <tr>\n",
       "      <th>Date</th>\n",
       "      <th></th>\n",
       "      <th></th>\n",
       "      <th></th>\n",
       "    </tr>\n",
       "  </thead>\n",
       "  <tbody>\n",
       "    <tr>\n",
       "      <th>2017-11-29</th>\n",
       "      <td>117.879997</td>\n",
       "      <td>128.448565</td>\n",
       "      <td>1.089655</td>\n",
       "    </tr>\n",
       "    <tr>\n",
       "      <th>2017-11-30</th>\n",
       "      <td>115.000000</td>\n",
       "      <td>125.310361</td>\n",
       "      <td>0.000000</td>\n",
       "    </tr>\n",
       "    <tr>\n",
       "      <th>2017-12-01</th>\n",
       "      <td>119.000000</td>\n",
       "      <td>125.310361</td>\n",
       "      <td>0.000000</td>\n",
       "    </tr>\n",
       "    <tr>\n",
       "      <th>2017-12-04</th>\n",
       "      <td>123.000000</td>\n",
       "      <td>125.310361</td>\n",
       "      <td>0.000000</td>\n",
       "    </tr>\n",
       "    <tr>\n",
       "      <th>2017-12-05</th>\n",
       "      <td>123.000000</td>\n",
       "      <td>125.310361</td>\n",
       "      <td>0.000000</td>\n",
       "    </tr>\n",
       "  </tbody>\n",
       "</table>\n",
       "</div>"
      ],
      "text/plain": [
       "                   xiv       strat         n\n",
       "Date                                        \n",
       "2017-11-29  117.879997  128.448565  1.089655\n",
       "2017-11-30  115.000000  125.310361  0.000000\n",
       "2017-12-01  119.000000  125.310361  0.000000\n",
       "2017-12-04  123.000000  125.310361  0.000000\n",
       "2017-12-05  123.000000  125.310361  0.000000"
      ]
     },
     "execution_count": 53,
     "metadata": {},
     "output_type": "execute_result"
    }
   ],
   "source": [
    "port_df.tail()"
   ]
  }
 ],
 "metadata": {
  "anaconda-cloud": {},
  "kernelspec": {
   "display_name": "Python [conda env:python3]",
   "language": "python",
   "name": "conda-env-python3-py"
  },
  "language_info": {
   "codemirror_mode": {
    "name": "ipython",
    "version": 3
   },
   "file_extension": ".py",
   "mimetype": "text/x-python",
   "name": "python",
   "nbconvert_exporter": "python",
   "pygments_lexer": "ipython3",
   "version": "3.6.1"
  }
 },
 "nbformat": 4,
 "nbformat_minor": 2
}
